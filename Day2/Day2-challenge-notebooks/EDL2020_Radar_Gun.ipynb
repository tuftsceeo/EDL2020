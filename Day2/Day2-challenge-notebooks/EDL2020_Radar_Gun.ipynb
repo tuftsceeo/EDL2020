{
 "cells": [
  {
   "cell_type": "markdown",
   "metadata": {},
   "source": [
    "# Challenge Exercise: Radar Gun \n",
    "\n",
    "With an distance sensor and some clever math, it is possible to build a \"radar gun\" that tracks the max speed of a moving object. Before getting into the code, it is important to first understand the math that allows this radar gun idea to work.\n",
    "\n",
    "Think back to the distance sensing exploration. In that exercise we plotted the distance recorded by the sensor vs the time at which it took that reading. When things were moving fast, the curve was steeper, as the distance changed quicker *with respect to* time. It turns out that to measure the speed at which an object is moving, all you need to do is figure out how steep the distance vs time curve is; that is to say, you need to calculate its *slope*.\n",
    "\n",
    "Knowing this, think about how you could write a function to return the slope between the last two points of a data set. Then, have the function loop while the distance sensor takes data and puts it into an array. The function should continually return the slope between the last two readings of the sensor. Print this reading at a readable interval so that you can see the \"speed\" at which the object is moving. Here's a template to get you started:"
   ]
  },
  {
   "cell_type": "code",
   "execution_count": null,
   "metadata": {},
   "outputs": [],
   "source": [
    "#Radar Gun Template\n",
    "# import GoPiGo Modules:\n",
    "from easygopigo3 import EasyGoPiGo3\n",
    "#import other stuff:\n",
    "from IPython.display import clear_output\n",
    "import numpy as np\n",
    "%matplotlib inline\n",
    "import matplotlib.pyplot as plt\n",
    "import time\n",
    "from EDL_Jupyter_resources import HiddenPrints\n",
    "hiddenprints=HiddenPrints()\n",
    "\n",
    "# Initialize easy gpg\n",
    "my_easy_robot = EasyGoPiGo3()\n",
    "# Make sure that all sensors and output devices are uncofigured to start\n",
    "my_easy_robot.reset_all()\n",
    "\n",
    "#define our distance sensor object as plugged into I2C\n",
    "my_distance_sensor = my_easy_robot.init_distance_sensor()\n",
    "\n",
    "###Functions###\n",
    "\n",
    "def take_slope(data):  \n",
    "    '''\n",
    "    Gets a data set [[x1,y1],[x2,y2],...,[xn,yn]] and calculates the slope\n",
    "    between the last two points\n",
    "    '''\n",
    "    if len(data)==1: #if data has len 1 it has no slope\n",
    "        return 0\n",
    "    \n",
    "    dy= #Calculate the change in y values (last two points in data)\n",
    "    dx= #Calculate the change in x values\n",
    "    slope =  #slope formula\n",
    "    \n",
    "    return slope\n",
    "    \n",
    "\n",
    "###Variable Initialization###\n",
    "#these arrays will store data about the pos and speed\n",
    "reading_data=np.array([]) #init reading data\n",
    "slope_data=np.array([]) #init slope data\n",
    "times=np.array([]) #for plotting data\n",
    "\n",
    "###Parameters###\n",
    "#how long and how fast to sample\n",
    "sample_rate=4 #rate at which to run loop in Hz\n",
    "length=10 #length of sample\n",
    "\n",
    "###Loop###\n",
    "print(\"Starting\")\n",
    "start=time.time()\n",
    "while time.time()-start<length: \n",
    "    with hiddenprints:\n",
    "        reading=my_distance_sensor.read() #get sensor reading\n",
    "        time_stamp = time.time()-start #get current time since T0\n",
    "        \n",
    "    reading_data=np.append(reading_data,[time_stamp,reading]) #add it to dataset\n",
    "    #                                    [X value , Y value]\n",
    "    \n",
    "    '''------------------------------------------'''\n",
    "    slope= #get slope of data using your function\n",
    "    slope_data= #add the slope value to the data set\n",
    "    \n",
    "    '''\n",
    "    Here you should report the live speed (slope)\n",
    "    \n",
    "    For a challenge, only report the speed as fast as you can\n",
    "    read it, and report both average and max speeds over that \n",
    "    interval\n",
    "    '''\n",
    "    \n",
    "    time.sleep(1.0/sample_rate) #sleep\n",
    "\n",
    "print('Done')"
   ]
  },
  {
   "cell_type": "markdown",
   "metadata": {},
   "source": [
    "For a greater challenge, increase the sample rate (rate at which your loop runs) and have the console print at a different rate that is still readable to the user. Make it print the average speed during that interval as well as the maximum speed. Now you can see the max speed your sensor recorded and catch speeders in your house!"
   ]
  }
 ],
 "metadata": {
  "kernelspec": {
   "display_name": "Python 3",
   "language": "python",
   "name": "python3"
  },
  "language_info": {
   "codemirror_mode": {
    "name": "ipython",
    "version": 3
   },
   "file_extension": ".py",
   "mimetype": "text/x-python",
   "name": "python",
   "nbconvert_exporter": "python",
   "pygments_lexer": "ipython3",
   "version": "3.5.3"
  }
 },
 "nbformat": 4,
 "nbformat_minor": 2
}
