{
 "cells": [
  {
   "cell_type": "markdown",
   "metadata": {},
   "source": [
    "# Engineering Design Lab: Playing with and moving your robot"
   ]
  },
  {
   "cell_type": "markdown",
   "metadata": {},
   "source": [
    "Now we will really start playing with your robot, particularly with motion and automating that motion. Make sure your robot is built, that it has power, and that it is plugged in to your computer."
   ]
  },
  {
   "cell_type": "markdown",
   "metadata": {},
   "source": [
    "# Thinking about motion"
   ]
  },
  {
   "cell_type": "markdown",
   "metadata": {},
   "source": [
    "Get up and walk around your room or you house for a while. What sorts of obstacles do you encounter? What sorts of paths can you take? Now look at your robot, and think about how you might move it around your house, keeping in mind these obstacles.\n",
    "\n",
    "You'll notice that the robot has two wheels and a ball (called a caster wheel). These two wheels are powered, but the caster wheel is not. Essentially, the caster wheel exists to provide a third point of contact with the ground so that the robot remains stable when steering.\n",
    "\n",
    "When programming your robot, as we will see later, you will be sending separate commands to each motor; each wheel will basically be given its own instruction, unrelated to the other wheel. It is the combination of these two wheels that determines the motion of the robot. This is a concept called **differential steering**. It is how many tracked vehicles like bulldozers and tanks move; there is a small number of wheeled vehicles that use it, your robot among them."
   ]
  },
  {
   "cell_type": "markdown",
   "metadata": {},
   "source": [
    "# Power up your GoPiGo\n",
    "\n",
    "Now it is time to power up your GoPiGo.  To run the big (yellow) motors, you need additional external power (e.g. battery pack or wall connection through the barrel port jack (the [coaxial power connector port](https://en.m.wikipedia.org/wiki/Coaxial_power_connector)).  But for all other operation (running Python code, turning on/off LEDs, reading sensors attached to the GPG board, etc) you can run off the USB power connected to the Raspberry Pi.\n",
    "\n",
    "If you have batteries/external power, you can connect those and turn on the GPG with the power switch on the GoPiGo board.  Otherwise, power the Raspberry Pi as normal.\n",
    "\n",
    "There are three libraries (`modules`) that have been created (and have been pre-loaded onto your Raspberry Pi) for communicating to and interacting with the GoPiGo. We will be using two of then, they are:\n",
    "\n",
    "- `easysensors`: includes many functions for using motors, sensors, and other outputs (still fairly low level)\n",
    "- `easygopigo3`: a simplified (higher-level) version of the GPG functions, without as much customization avaiable (we'll import and call `my_easy_robot` for short)"
   ]
  },
  {
   "cell_type": "markdown",
   "metadata": {},
   "source": [
    "Here is some documentation for the GoPiGo.  They mostly document and support the `easygopigo3` functionality:\n",
    "\n",
    "https://media.readthedocs.org/pdf/gopigo3/latest/gopigo3.pdf\n",
    "\n",
    "Once imported, all your code should start with the following three commands to (1 & 2) set up instances of the GoPiGo and Easy GoPiGo modules and (3) to reset the GoPiGo's sensors and other outputs at the start of your program.\n",
    "\n",
    "- `my_easy_robot = EasyGoPiGo3()`\n",
    "- `my_easy_robot.reset_all()`\n",
    "\n",
    "Note: if you get an \"update firmware\" error message, you'll need to update your GoPiGo firmware. There is a script built into your robot (you can access from the desktop, just ask a TA for help if you need it) that will do this for you.  Note it requires a Pi reboot so make sure you save-and-close all other work currently open on the Raspberry Pi.\n",
    "\n",
    "### IMPORT CODE BELOW"
   ]
  },
  {
   "cell_type": "code",
   "execution_count": null,
   "metadata": {},
   "outputs": [],
   "source": [
    "# import GoPiGo Modules:\n",
    "import easysensors\n",
    "from easygopigo3 import EasyGoPiGo3\n",
    "\n",
    "# Initialize instances of both GPG class objects\n",
    "my_easy_robot = EasyGoPiGo3()\n",
    "\n",
    "# Make sure that all sensors and output devices are uncofigured to start\n",
    "my_easy_robot.reset_all()\n",
    "\n",
    "print('GoPiGo Initialized')"
   ]
  },
  {
   "cell_type": "markdown",
   "metadata": {},
   "source": [
    "# Using GPG's LEDs\n",
    "\n",
    "There are four build-in LEDs on the GoPiGo. Looking at the board top down you can see the little \"Dexter\" character: two of them are his eyes (multicolored LED Left Eye and LED Right Eye). Then looking at the front of the board (where the sensor ports are, above the Raspberry Pi USB ports) there are two little red \"blinker\" LEDs under the board.\n",
    "\n"
   ]
  },
  {
   "cell_type": "markdown",
   "metadata": {},
   "source": [
    "### Setting Left Eye and Right Eye LEDs\n",
    "\n",
    "You can set the color of the LED eyes is set using any of the following functions: `my_easy_robot.set_eye_color()`, `my_easy_robot.set_left_eye_color()`, or `my_easy_robot.set_right_eye_color()`. These functions take in:\n",
    "- the Red color component (0 to 255)\n",
    "- the Green color component (0 to 255)\n",
    "- the Blue color component (0 to 255)\n",
    "\n",
    "The amount of RGB colors you add will set the LEDs to differnt colors (and brightness).  0 is \"off/black\" and 255 is \"on/white\".  So:\n",
    "\n",
    "`my_easy_robot.set_left_eye_color((255, 0, 0))` turns on the Left Eye LED and makes it red (all red, no green, no blue)\n",
    "\n",
    "and\n",
    "\n",
    "`my_easy_robot.set_right_eye_color((0, 0, 0))` turns off the Right Eye LED (set it to black: no red, no green, no blue)\n",
    "\n",
    "Note: if this is your first time using RGB (0 to 255) colors, here are some links to read more about how RGB colors work. Also, do a Google Search for \"RGB Color Picker\" to find many resources for helping find the RGB values for a particular color you want.\n",
    "\n",
    "- https://en.wikipedia.org/wiki/RGB_color_model\n",
    "- https://www.lightwaveuk.com/led-technology/how-does-rgb-work/\n",
    "\n",
    "After setting the eye color, you can turn on the LED eyes by calling the corresponding function: `my_easy_robot.open_eyes()`, `my_easy_robot.open_left_eye()`, `my_easy_robot.open_right_eye()`. These functions take no arguments.\n",
    "\n",
    "Likewise, to 'close' or turn off the LED eyes, you can call the corresponding function: `my_easy_robot.close_eyes()`, `my_easy_robot.close_left_eye()`, `my_easy_robot.close_right_eye()`"
   ]
  },
  {
   "cell_type": "code",
   "execution_count": null,
   "metadata": {},
   "outputs": [],
   "source": [
    "# Example LED Script\n",
    "\n",
    "# Import time\n",
    "import time\n",
    "\n",
    "# Set eye color and open eyes after\n",
    "my_easy_robot.set_eye_color((255, 0, 0))\n",
    "my_easy_robot.open_eyes()\n",
    "\n",
    "# Stall eyes\n",
    "my_easy_robot.sleep(2)\n",
    "\n",
    "# Close eyes\n",
    "my_easy_robot.close_eyes()"
   ]
  },
  {
   "cell_type": "markdown",
   "metadata": {},
   "source": [
    "### Setting the \"Blinker\" LEDs\n",
    "\n",
    "These LEDs are just red, so they can only be turned on and off. Turning on the blinkers can be done using the following function, `my_easy_robot.blinker_on()`. This function takes in:\n",
    "- ID blinker ((\"left\" or 1) corresponding to the left blinker and \"right\" (or 0) corresponding to the right blinker)\n",
    "\n",
    "For instance, turning on the left blinker would look like...\n",
    "`my_easy_robot.blinker_on(\"left\")` or `my_easy_robot.blinker_on(1)`\n",
    "\n",
    "A similar function turns off the LED: `my_easy_robot.blinker_off()`"
   ]
  },
  {
   "cell_type": "markdown",
   "metadata": {},
   "source": [
    "## Exercise 1:\n",
    "\n",
    "For this exercise play around with turning on/off the LEDs on the GoPiGo.  Write code that does the following (remember to add in some pauses, via `time.sleep()`, into your code):\n",
    "\n",
    "- Turn on both eyes bright blue\n",
    "- Have Dexter (the character with the eyes) wink one eye\n",
    "- Have Dexter blink (close and open his eyes) a few times, one of those times revealing red eyes\n",
    "- When his eyes turn red, also turn on and blink rapidly the Blinker LEDs on the front of the GPG\n",
    "\n",
    "(Note: I'm not looking for you to achieve this sequence perfectly; just want you to play around with the LEDs!)\n",
    "\n",
    "Optional extension: write code that loops through different \"brightness\" values, so that the LEDs appear to \"pulse\"."
   ]
  },
  {
   "cell_type": "code",
   "execution_count": null,
   "metadata": {},
   "outputs": [],
   "source": [
    "# write your solution to Exercise 1 here\n",
    "import time\n",
    "\n",
    "# assume import code has already imported GPG functions (and initialized)\n",
    "# if you ever get a NameError that mentions \"my_easy_robot\" makes sure to go to the top and rerun the Import Code\n",
    "\n",
    "\n",
    "# make left eye red: my_easy_robot.set_left_eye_color((255, 0, 0))\n",
    "# turn off right eye: my_easy_robot.set_right_eye_color((0, 0, 0))\n",
    "\n",
    "# turn on blinker: my_easy_robot.blinker_on()\n",
    "# turn off blinker: my_easy_robot.blinker_off()"
   ]
  },
  {
   "cell_type": "markdown",
   "metadata": {},
   "source": [
    "## Exercise 2:\n",
    "\n",
    "Now it's time to connect sensors to your robot and write some custom code. The button attachs to a Analog/Digital sensor port.\n",
    "\n",
    "\n",
    "Much like we controlled the LED in our circuits with a button, we can control the built-in LEDs on the GoPiGo board with the attached Grove Sensor Button.\n",
    "\n",
    "This is something we worked on yesterday, if you do not remember how to do it - you can go back to 'Intro to Sensing' notebook to read over the use of buttons.\n",
    "\n",
    "Plug in the Grove Sensor Button and write code that:\n",
    "- when the button isn't pushed, turns one eye blue (and the other off)\n",
    "- when the button IS pushed, switches which eye is on and turns it red instead of blue\n",
    "\n",
    "Optional extension: recreate the \"reaction game\" but use the LEDs to give the user a \"ready-set-go\" warning with \"red-yellow-green\" lights."
   ]
  },
  {
   "cell_type": "code",
   "execution_count": null,
   "metadata": {},
   "outputs": [],
   "source": [
    "# write your solution to Exercise 2 here\n",
    "import time\n",
    "\n",
    "# add code for controlling the eyes based on a button"
   ]
  },
  {
   "cell_type": "markdown",
   "metadata": {},
   "source": [
    "## Exercise 3:\n",
    "\n",
    "### Collect Loudness Sensor Data\n",
    "\n",
    "Connect the Loudness Sensor (in addition to your Button Sensor) to your GoPiGo. The sensor attachs to a Analog/Digital sensor port.\n",
    "\n",
    "Write code to collect Loudness Sensor data for 10 seconds. You'll want to keep track of the \"timestamp\" at which you are collecting.\n",
    "\n",
    "Modify your code to still collect 10 seconds of sound data, but ONLY save/store the actual values when the button is being pushed (ignore/set to zero when button is not pushed).  This is like an intercom: only \"listen\" when the button is being pushed.\n",
    "\n",
    "Note: this means you'll need one sensor plugged into Analog Digital Port 1 and the other in Analog Digital Port 2 (`AD1` and `AD2`)."
   ]
  },
  {
   "cell_type": "code",
   "execution_count": null,
   "metadata": {},
   "outputs": [],
   "source": [
    "# write your Solution to Exercise 3 here\n",
    "import time\n",
    "\n",
    "# write your solution here (sound data)"
   ]
  },
  {
   "cell_type": "markdown",
   "metadata": {},
   "source": [
    "## Exercise 4:\n",
    "\n",
    "### Collect Distance Sensor Data\n",
    "\n",
    "Now collect Distance Sensor data instead of Loudness Sensor data. The distance sensor attachs to a I2C sensor port.\n",
    "\n",
    "Write code to collect Distance Sensor data for 10 seconds. You'll want to keep track of the \"timestamp\" at which you are collecting.\n",
    "\n",
    "Modify your code to still collect 10 seconds of distance data, but ONLY save/store the actual values when the button is being pushed (ignore/set to zero when button is not pushed). This is like an police radar detector (not really, but whatever): only record when the trigger is being pulled.\n",
    "\n",
    "Note: this means you'll need one sensor plugged into Analog Digital Port 1 and the other in Analog Digital Port 2 (`AD1` and `AD2`).\n",
    "\n",
    "Save your data for graphing/plotting in Exercise W08.L10."
   ]
  },
  {
   "cell_type": "code",
   "execution_count": null,
   "metadata": {},
   "outputs": [],
   "source": [
    "# write your Solution to Exercise W08.L09 here\n",
    "import time\n",
    "\n",
    "# write your solution here (ultrasonic data)"
   ]
  },
  {
   "cell_type": "markdown",
   "metadata": {},
   "source": [
    "# Introduction to Driving Robots\n",
    "\n",
    "Now we will do some simple driving with the GoPiGo.\n",
    "\n",
    "Driving can be accomplished with a few simple functions from the easygopigo3 module.\n",
    "\n",
    "- `my_easy_robot.forward()`\n",
    "- `my_easy_robot.left()`\n",
    "- `my_easy_robot.right()`\n",
    "- `my_easy_robot.backwards()`\n",
    "- `my_easy_robot.spin_right()`\n",
    "- `my_easy_robot.spin_left()`\n",
    "- `my_easy_robot.stop()`\n",
    "\n",
    "It is important to note that these functions will run continuosly until `my_easy_robot.stop()` is called. Use the `time.sleep()` to suspend your code a given amount of seconds before calling `my_easy_robot.stop()`.\n",
    "\n",
    "While you are testing your driving code, it can be helpful to lift the robot up off the ground by placing it on top of a cup (or turning it upside-down) so that it doesn't drive off too far if your code has a bug."
   ]
  },
  {
   "cell_type": "markdown",
   "metadata": {},
   "source": [
    "### Exercise 5.1:\n",
    "\n",
    "Write some code to do some simple driving of the motors.\n",
    "\n",
    "- Forward for 1 second (hint: forward means both motors one at the same positive power)\n",
    "- Backward for 1 second (hint: backward means same negative power)\n",
    "- Spin for 1 second (hint: to spin in place, drive each motor in same-but-opposite power levels)\n",
    "\n",
    "Experiment with different speeds, directions, etc."
   ]
  },
  {
   "cell_type": "code",
   "execution_count": null,
   "metadata": {},
   "outputs": [],
   "source": [
    "# write your solution to Exercise 5.1 here\n",
    "import time\n",
    "# import GoPiGo Modules:\n",
    "import easysensors\n",
    "from easygopigo3 import EasyGoPiGo3\n",
    "\n",
    "# Initialize instance of Easy GPG class object\n",
    "my_easy_robot = EasyGoPiGo3()\n",
    "\n",
    "#drive the motors"
   ]
  },
  {
   "cell_type": "markdown",
   "metadata": {},
   "source": [
    "### Exercise 5.2:\n",
    "\n",
    "Through iterative \"guess and test\" figure out how to make your robot spin exactly 180 degrees.  How long do you need to run the motors?\n"
   ]
  },
  {
   "cell_type": "code",
   "execution_count": null,
   "metadata": {},
   "outputs": [],
   "source": [
    "# write your solution to Exercise 5.2 here\n",
    "import time\n",
    "# import GoPiGo Modules:\n",
    "import easysensors\n",
    "from easygopigo3 import EasyGoPiGo3\n",
    "\n",
    "# Initialize instances of both GPG class objects\n",
    "my_easy_robot = EasyGoPiGo3()\n",
    "\n",
    "# write code to spin the robot 180 degrees (based on time)"
   ]
  },
  {
   "cell_type": "markdown",
   "metadata": {},
   "source": [
    "# Motor Encoders\n",
    "\n",
    "Motor encoders allow you to read the position of the motor.\n",
    "\n",
    "To read the motor encoders:\n",
    "- Left encoder: `my_easy_robot.read_encoders()[0]`\n",
    "- Right encoder: `my_easy_robot.read_encoders()[1]`\n",
    "\n",
    "\n",
    "To reset the motor encoders:\n",
    "- `my_easy_robot.reset_encoders()`\n",
    "- this resets both encoders back to zero"
   ]
  },
  {
   "cell_type": "markdown",
   "metadata": {},
   "source": [
    "\n",
    "### Exercise 6.1:\n",
    "\n",
    "Write some code that prints out the value of the motor encoders.\n",
    "\n",
    "Take a reading every 1/2 second for 10 seconds.  Manually turn the motor and see how the data changes."
   ]
  },
  {
   "cell_type": "code",
   "execution_count": null,
   "metadata": {},
   "outputs": [],
   "source": [
    "# write your solution to Exercise 6.1 here\n",
    "import time\n",
    "# import GoPiGo Modules:\n",
    "import easysensors\n",
    "from easygopigo3 import EasyGoPiGo3\n",
    "\n",
    "# Initialize instance of GPG class object\n",
    "my_easy_robot = EasyGoPiGo3()\n",
    "\n",
    "# Make sure that all sensors and output devices are uncofigured to start\n",
    "my_easy_robot.reset_all()\n",
    "my_easy_robot.reset_encoders()\n",
    "\n",
    "# loop 20 times, sleeping 1/2 second: take 10-seconds of data\n",
    "for i in range(10):\n",
    "    time.sleep(0.5) # sleep half a second\n",
    "    # read motor encoder and print value"
   ]
  },
  {
   "cell_type": "markdown",
   "metadata": {},
   "source": [
    "### Exercise 6.2:\n",
    "\n",
    "Redo the \"spin 180 degrees\" exercise from above but this time use the motor encoder readings to stop your robot instead."
   ]
  },
  {
   "cell_type": "code",
   "execution_count": null,
   "metadata": {},
   "outputs": [],
   "source": [
    "# write your solution to Exercise 6.2 here\n",
    "import time\n",
    "# import GoPiGo Modules:\n",
    "import easysensors\n",
    "from easygopigo3 import EasyGoPiGo3\n",
    "\n",
    "# Initialize instance of GPG class object\n",
    "my_easy_robot = EasyGoPiGo3()\n",
    "\n",
    "# Make sure that all sensors and output devices are uncofigured to start\n",
    "my_easy_robot.reset_all()\n",
    "my_easy_robot.reset_encoders()\n",
    "\n",
    "# write code to spin the robot 180 degrees (based on motor encoder)"
   ]
  },
  {
   "cell_type": "markdown",
   "metadata": {},
   "source": [
    "### Exercise 6.3:\n",
    "\n",
    "From your results above, figure out the ratio of motor encoder values to robot degrees and create a little conversion function (if you want to turn X degrees, what motor encoder value do you need?).\n",
    "\n",
    "Test out your function by inputting different amounts (90-degrees, 180, 360, 720, etc) and see how accurate your robot is.  What factors into the accuracy? Are there things you can change to make it more accurate?"
   ]
  },
  {
   "cell_type": "code",
   "execution_count": null,
   "metadata": {},
   "outputs": [],
   "source": [
    "# write your solution to Exercise 6.3 here\n",
    "import time\n",
    "# import GoPiGo Modules:\n",
    "import easysensors\n",
    "from easygopigo3 import EasyGoPiGo3\n",
    "\n",
    "# Initialize instance of GPG class object\n",
    "my_easy_robot = EasyGoPiGo3()\n",
    "\n",
    "# Make sure that all sensors and output devices are uncofigured to start\n",
    "my_easy_robot.reset_all()\n",
    "my_easy_robot.reset_encoders()\n",
    "\n",
    "# how many degrees to turn?\n",
    "input_degrees = 720 # modify this\n",
    "\n",
    "# write code (functions, etc) to automatically turn that number of degrees"
   ]
  },
  {
   "cell_type": "markdown",
   "metadata": {},
   "source": [
    "# Drive by Sensor\n",
    "\n",
    "The previous exercises used the built-in motor encoders as a \"sensor\" (input) for determining when/how to drive.  Now we will use another sensor to help us.\n",
    "\n",
    "Figure out how to mount the *Distance Sensor* onto your robot.  At this point it can be \"pointing stright up\" in the air, as we will just be using our hand to trigger the sensor/control the robot."
   ]
  },
  {
   "cell_type": "markdown",
   "metadata": {},
   "source": [
    "### Exercise 7.1:\n",
    "\n",
    "Use your Jedi Powers to control the robot.  When it doesn't see anything (e.g. the distance sensor reads a large value) the robot should drive forward.  When you put out your hand above your robot (in front of the sensor) the robot should stop moving.  Loop this so it continually is checking and is stopped when it sees your hand and moves when it doesn't.\n"
   ]
  },
  {
   "cell_type": "code",
   "execution_count": null,
   "metadata": {},
   "outputs": [],
   "source": [
    "# write your solution to Exercise 7.1 here\n",
    "import time\n",
    "# import GoPiGo Modules:\n",
    "import easysensors\n",
    "from easygopigo3 import EasyGoPiGo3\n",
    "\n",
    "# Initialize instance of GPG class object\n",
    "my_easy_robot = EasyGoPiGo3()\n",
    "\n",
    "# Make sure that all sensors and output devices are uncofigured to start\n",
    "my_easy_robot.reset_all()\n",
    "my_easy_robot.reset_encoders()\n",
    "\n",
    "# write your code here to control your robot based on the ultrasonic sensor"
   ]
  },
  {
   "cell_type": "markdown",
   "metadata": {},
   "source": [
    "### Exercise 7.2\n",
    "\n",
    "In Exercise 7.1 the robot only \"started/stopped\" (binary) based on the distance sensor readings. Now, redo that problem but instead of just \"starting/stopping\" (on/off) the motors, make the power of the motor (affecting the speed) based on the distance sensor reading. That is: when your hand is far away (big value) the motor should move fast (big value), and when your hand it close (small value) the motor should move slow (small value).\n",
    "\n",
    "Keep in mind the power is between 0 and 100.  What kind of distance sensor readings make sense?  What math do you need to do to the distance sensor readings to create reasonable motor power values?"
   ]
  },
  {
   "cell_type": "code",
   "execution_count": null,
   "metadata": {},
   "outputs": [],
   "source": [
    "# write your solution to Exercise 7.2 here\n",
    "import time\n",
    "# import GoPiGo Modules:\n",
    "import easysensors\n",
    "from easygopigo3 import EasyGoPiGo3\n",
    "\n",
    "# Initialize instance of GPG class object\n",
    "my_easy_robot = EasyGoPiGo3()\n",
    "\n",
    "# Make sure that all sensors and output devices are uncofigured to start\n",
    "my_easy_robot.reset_all()\n",
    "my_easy_robot.reset_encoders()\n",
    "\n",
    "# write your code here to control your robot based on the ultrasonic sensor"
   ]
  },
  {
   "cell_type": "markdown",
   "metadata": {},
   "source": [
    "# Introducing Servos\n",
    "Two servo packages were included in your kits. Take a look here: https://www.dexterindustries.com/store/servo-package/. \n",
    "\n",
    "Servos are simple motors which rotate, to which you can attach sensors for increased mobility and measurable range. The two sensors can be referenced and initialized with the following commands\n",
    "- Servo 1/Left Servo Port:  `servo_one = my_easy_robot.init_servo(\"SERVO1\")`\n",
    "- Servo 2/Right Servo Port: `servo_two = my_easy_robot.init_servo(\"SERVO2\")`\n",
    "\n",
    "After initializing the servos, you can control their degree of rotation using: `servo_one.rotate_servo()`  and `servo_two.rotate_servo()`. These functions take in one argument: \n",
    "- degrees to rotate\n",
    "\n",
    "And finally, you can reset the servo by using `servo_one.reset_servo()` or `servo_two.reset_servo()`.\n",
    "\n",
    "### Exercise 8.1\n",
    "\n",
    "Included in the servo package are a few attachments. One of them can be directly attached to the shaft of the servo. For the following exercise, attach this piece to the servo so that you can more easily see the rotation of the servo.\n",
    "\n",
    "Write a simple program that will rotate the servo 180 degrees, run it again and see what happens"
   ]
  },
  {
   "cell_type": "code",
   "execution_count": null,
   "metadata": {},
   "outputs": [],
   "source": [
    "# write your solution to Exercise 8.1 here\n",
    "import time\n",
    "# import GoPiGo Modules:\n",
    "import easysensors\n",
    "from easygopigo3 import EasyGoPiGo3\n",
    "\n",
    "# Initialize instance of GPG class object\n",
    "my_easy_robot = EasyGoPiGo3()\n",
    "\n",
    "# Make sure that all sensors and output devices are uncofigured to start\n",
    "my_easy_robot.reset_all()\n",
    "my_easy_robot.reset_encoders()\n",
    "\n",
    "# Initialize servo\n",
    "\n",
    "# Rotate servo\n"
   ]
  },
  {
   "cell_type": "markdown",
   "metadata": {},
   "source": [
    "# Challenges\n",
    "\n",
    "Now for some other challenges with your robot.\n",
    "\n",
    "Take a look at some of the following challenges - try your hand at making your robot do any of the following. The order is not important!\n",
    "\n",
    "1. **Your robot is an artist!** Make the robot drive in a perfect 6 inch by 6 inch square - for added flare, tape a piece of paper to the floor/table and a marker to the robot to have it draw the square! (Watch out that the area around the paper is protected so you don't end up drawing on your table by accident!)\n",
    "    * Extra challenge can you make a function for your robot that asks you as an input how many sides to draw and then the robot drives in that shape for exampe 3 = triangle, 6 = hexagon, etc. \n",
    "    \n",
    "2. **Robot explorer - your robot is nagivating through a forest or jungle to get to a nearby village!** Set up an obstacle course for your robot using household objects. Books, boxes, etc. which will stand in for the trees and rocks along the path. Define a starting location for the robot, and an ending goal location (the village). Can you navigate from the start to the finish around the objects with your robot?\n",
    "    * What makes your obstacle course harder and easier? If you navigate through quickly, try adjusting the objects to make it harder!\n",
    "    \n",
    "3. **Choose your own adventure** The robot is yours to do want you want! Program the robot to do something that interests you. Clean off your desk (by adding a cardboard plow to the front). Play some music and choreograph the robot to dance to the music! (Flash the lights to the beat!)"
   ]
  },
  {
   "cell_type": "code",
   "execution_count": null,
   "metadata": {},
   "outputs": [],
   "source": [
    "# write your solution to either challenges here\n",
    "import time\n",
    "# import GoPiGo Modules:\n",
    "import easysensors\n",
    "from easygopigo3 import EasyGoPiGo3\n",
    "\n",
    "# Initialize instance of GPG class object\n",
    "my_easy_robot = EasyGoPiGo3()\n",
    "\n",
    "# Make sure that all sensors and output devices are uncofigured to start\n",
    "my_easy_robot.reset_all()\n",
    "my_easy_robot.reset_encoders()\n",
    "\n",
    "# Initialize servo\n",
    "\n",
    "# Rotate servo\n"
   ]
  },
  {
   "cell_type": "markdown",
   "metadata": {},
   "source": [
    "# Robo-Sports Challenge\n",
    "\n",
    "As mentioned earlier, you can attach sensors and such to the servo for increased mobility and range. This can be done using the provided attachments in the servo package. Some of these attachments even have LEGO compatibility!\n",
    "\n",
    "Your task is to combine servos, sensors, and the ball you should have received in your kit to write a program which will allow the robot to detect the ball using the distance sensor and then pushes it into a goal/off a table. \n",
    "\n",
    "You can choose to do this however you see fit. Feel free to create an arm out of legos or cardboard, attach it to the servo, and use that to kick the ball! Or maybe use the servos to increase your range of scope, so you can detect the ball in larger area."
   ]
  },
  {
   "cell_type": "code",
   "execution_count": null,
   "metadata": {},
   "outputs": [],
   "source": [
    "# write your solution to Exercise 8.2 here\n",
    "import time\n",
    "# import GoPiGo Modules:\n",
    "import easysensors\n",
    "from easygopigo3 import EasyGoPiGo3\n",
    "\n",
    "# Initialize instance of GPG class object\n",
    "my_easy_robot = EasyGoPiGo3()\n",
    "\n",
    "# Make sure that all sensors and output devices are uncofigured to start\n",
    "my_easy_robot.reset_all()\n",
    "my_easy_robot.reset_encoders()\n",
    "\n",
    "# Initialize servo\n"
   ]
  }
 ],
 "metadata": {
  "kernelspec": {
   "display_name": "Python 3",
   "language": "python",
   "name": "python3"
  },
  "language_info": {
   "codemirror_mode": {
    "name": "ipython",
    "version": 3
   },
   "file_extension": ".py",
   "mimetype": "text/x-python",
   "name": "python",
   "nbconvert_exporter": "python",
   "pygments_lexer": "ipython3",
   "version": "3.5.3"
  }
 },
 "nbformat": 4,
 "nbformat_minor": 4
}
